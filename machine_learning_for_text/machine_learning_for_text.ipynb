{
 "cells": [
  {
   "cell_type": "markdown",
   "metadata": {
    "toc": true
   },
   "source": [
    "<h1>Содержание<span class=\"tocSkip\"></span></h1>\n",
    "<div class=\"toc\"><ul class=\"toc-item\"><li><span><a href=\"#Настройка-проекта.\" data-toc-modified-id=\"Настройка-проекта.-1\"><span class=\"toc-item-num\">1&nbsp;&nbsp;</span>Настройка проекта.</a></span><ul class=\"toc-item\"><li><span><a href=\"#Импорт-необходимых-библиотек,-модулей,-классов-и-функций.\" data-toc-modified-id=\"Импорт-необходимых-библиотек,-модулей,-классов-и-функций.-1.1\"><span class=\"toc-item-num\">1.1&nbsp;&nbsp;</span>Импорт необходимых библиотек, модулей, классов и функций.</a></span></li><li><span><a href=\"#Настройка-окружения-и-глобальные-переменные.\" data-toc-modified-id=\"Настройка-окружения-и-глобальные-переменные.-1.2\"><span class=\"toc-item-num\">1.2&nbsp;&nbsp;</span>Настройка окружения и глобальные переменные.</a></span></li><li><span><a href=\"#Пользовательские-функции.\" data-toc-modified-id=\"Пользовательские-функции.-1.3\"><span class=\"toc-item-num\">1.3&nbsp;&nbsp;</span>Пользовательские функции.</a></span></li></ul></li><li><span><a href=\"#Подготовка.\" data-toc-modified-id=\"Подготовка.-2\"><span class=\"toc-item-num\">2&nbsp;&nbsp;</span>Подготовка.</a></span><ul class=\"toc-item\"><li><span><a href=\"#Загрузка,-обзор-и-начальная-обработка-данных.\" data-toc-modified-id=\"Загрузка,-обзор-и-начальная-обработка-данных.-2.1\"><span class=\"toc-item-num\">2.1&nbsp;&nbsp;</span>Загрузка, обзор и начальная обработка данных.</a></span></li><li><span><a href=\"#Очистка-и-лемматизация-текста.\" data-toc-modified-id=\"Очистка-и-лемматизация-текста.-2.2\"><span class=\"toc-item-num\">2.2&nbsp;&nbsp;</span>Очистка и лемматизация текста.</a></span></li><li><span><a href=\"#Итоговая-проверка-на-дубликаты-и-пропуски.\" data-toc-modified-id=\"Итоговая-проверка-на-дубликаты-и-пропуски.-2.3\"><span class=\"toc-item-num\">2.3&nbsp;&nbsp;</span>Итоговая проверка на дубликаты и пропуски.</a></span></li><li><span><a href=\"#Проверка-на-дисбаланс-класса.\" data-toc-modified-id=\"Проверка-на-дисбаланс-класса.-2.4\"><span class=\"toc-item-num\">2.4&nbsp;&nbsp;</span>Проверка на дисбаланс класса.</a></span></li><li><span><a href=\"#Краткий-вывод.\" data-toc-modified-id=\"Краткий-вывод.-2.5\"><span class=\"toc-item-num\">2.5&nbsp;&nbsp;</span>Краткий вывод.</a></span></li></ul></li><li><span><a href=\"#Обучение\" data-toc-modified-id=\"Обучение-3\"><span class=\"toc-item-num\">3&nbsp;&nbsp;</span>Обучение</a></span><ul class=\"toc-item\"><li><span><a href=\"#Подготовка-выборок.\" data-toc-modified-id=\"Подготовка-выборок.-3.1\"><span class=\"toc-item-num\">3.1&nbsp;&nbsp;</span>Подготовка выборок.</a></span></li><li><span><a href=\"#GridSearchCV-для-LogisticRegression.\" data-toc-modified-id=\"GridSearchCV-для-LogisticRegression.-3.2\"><span class=\"toc-item-num\">3.2&nbsp;&nbsp;</span>GridSearchCV для LogisticRegression.</a></span></li><li><span><a href=\"#GridSearchCV-для-Naive-Bayes.\" data-toc-modified-id=\"GridSearchCV-для-Naive-Bayes.-3.3\"><span class=\"toc-item-num\">3.3&nbsp;&nbsp;</span>GridSearchCV для Naive Bayes.</a></span></li><li><span><a href=\"#GridSearchCV-для-LinearSVC.\" data-toc-modified-id=\"GridSearchCV-для-LinearSVC.-3.4\"><span class=\"toc-item-num\">3.4&nbsp;&nbsp;</span>GridSearchCV для LinearSVC.</a></span></li><li><span><a href=\"#Выбор-лучшей-модели-на-кроссвалидации.\" data-toc-modified-id=\"Выбор-лучшей-модели-на-кроссвалидации.-3.5\"><span class=\"toc-item-num\">3.5&nbsp;&nbsp;</span>Выбор лучшей модели на кроссвалидации.</a></span></li></ul></li><li><span><a href=\"#Производительность-лучшей-модели.\" data-toc-modified-id=\"Производительность-лучшей-модели.-4\"><span class=\"toc-item-num\">4&nbsp;&nbsp;</span>Производительность лучшей модели.</a></span><ul class=\"toc-item\"><li><span><a href=\"#Краткий-вывод.\" data-toc-modified-id=\"Краткий-вывод.-4.1\"><span class=\"toc-item-num\">4.1&nbsp;&nbsp;</span>Краткий вывод.</a></span></li></ul></li><li><span><a href=\"#Выводы.\" data-toc-modified-id=\"Выводы.-5\"><span class=\"toc-item-num\">5&nbsp;&nbsp;</span>Выводы.</a></span></li><li><span><a href=\"#Чек-лист-проверки\" data-toc-modified-id=\"Чек-лист-проверки-6\"><span class=\"toc-item-num\">6&nbsp;&nbsp;</span>Чек-лист проверки</a></span></li></ul></div>"
   ]
  },
  {
   "cell_type": "markdown",
   "metadata": {},
   "source": [
    "# Проект для «Викишоп»"
   ]
  },
  {
   "cell_type": "markdown",
   "metadata": {},
   "source": [
    "<img src=\"https://s3.amazonaws.com/thumbnails.illustrationsource.com/huge.8.41725.JPG\" width=\"310\" align=\"left\"/>Интернет-магазин «Викишоп» запускает новый сервис. Теперь пользователи могут редактировать и дополнять описания товаров, как в вики-сообществах. То есть клиенты предлагают свои правки и комментируют изменения других. Магазину нужен инструмент, который будет искать токсичные комментарии и отправлять их на модерацию. \n",
    "\n",
    "Обучите модель классифицировать комментарии на позитивные и негативные. В вашем распоряжении набор данных с разметкой о токсичности правок.\n",
    "\n",
    "Постройте модель со значением метрики качества *F1* не меньше 0.75. \n",
    "\n",
    "**Инструкция по выполнению проекта**\n",
    "\n",
    "◦ Загрузите и подготовьте данные. <br>\n",
    "◦ Обучите разные модели. <br>\n",
    "◦ Сделайте выводы.<br>\n",
    "\n",
    "Для выполнения проекта применять *BERT* необязательно, но вы можете попробовать.\n",
    "\n",
    "**Описание данных**\n",
    "\n",
    "Данные находятся в файле `toxic_comments.csv`. Столбец *text* в нём содержит текст комментария, а *toxic* — целевой признак."
   ]
  },
  {
   "cell_type": "markdown",
   "metadata": {},
   "source": [
    "## Настройка проекта."
   ]
  },
  {
   "cell_type": "markdown",
   "metadata": {},
   "source": [
    "### Импорт необходимых библиотек, модулей, классов и функций."
   ]
  },
  {
   "cell_type": "code",
   "execution_count": 1,
   "metadata": {},
   "outputs": [],
   "source": [
    "import numpy as np\n",
    "import os\n",
    "import pandas as pd\n",
    "import random\n",
    "import re\n",
    "import requests\n",
    "import seaborn as sns\n",
    "import spacy\n",
    "#import torch\n",
    "import warnings\n",
    "\n",
    "import nltk\n",
    "from nltk.corpus import stopwords as nltk_stopwords\n",
    "\n",
    "#from transformers import AutoTokenizer, AutoModel\n",
    "from tqdm import tqdm, notebook\n",
    "from joblib import dump, load\n",
    "from matplotlib import pyplot as plt\n",
    "\n",
    "#from sklearn.base import BaseEstimator, ClassifierMixin\n",
    "from sklearn.calibration import CalibratedClassifierCV\n",
    "#from sklearn.ensemble import RandomForestClassifier\n",
    "from sklearn.feature_extraction.text import TfidfVectorizer\n",
    "from sklearn.linear_model import LogisticRegression\n",
    "from sklearn.model_selection import GridSearchCV, StratifiedShuffleSplit, train_test_split\n",
    "from sklearn.metrics import (\n",
    "    average_precision_score,\n",
    "    confusion_matrix,\n",
    "    f1_score,\n",
    "    precision_recall_curve,\n",
    "    roc_auc_score,\n",
    "    roc_curve\n",
    ")\n",
    "from sklearn.naive_bayes import MultinomialNB\n",
    "from sklearn.pipeline import Pipeline\n",
    "from sklearn.svm import LinearSVC"
   ]
  },
  {
   "cell_type": "markdown",
   "metadata": {},
   "source": [
    "### Настройка окружения и глобальные переменные."
   ]
  },
  {
   "cell_type": "code",
   "execution_count": 2,
   "metadata": {},
   "outputs": [],
   "source": [
    "#pd.set_option('display.max_rows', None)\n",
    "pd.set_option('display.max_columns', None)\n",
    "#pd.set_option('display.max_colwidth', None)\n",
    "#pd.options.display.float_format = '{:,.3f}'.format\n",
    "warnings.simplefilter('ignore')\n",
    "\n",
    "RANDOM_STATE = 42"
   ]
  },
  {
   "cell_type": "markdown",
   "metadata": {},
   "source": [
    "### Пользовательские функции."
   ]
  },
  {
   "cell_type": "code",
   "execution_count": 4,
   "metadata": {},
   "outputs": [],
   "source": [
    "def my_rnd_state_everywhere(seed=RANDOM_STATE):\n",
    "    os.environ['PYTHONHASHSEED'] = str(seed)\n",
    "    np.random.seed(seed)\n",
    "    random.seed(seed)\n",
    "    #torch.manual_seed(seed)\n",
    "    #torch.cuda.manual_seed(seed)\n",
    "    #torch.backends.cudnn.deterministic = True\n",
    "    #torch.backends.cudnn.benchmark = True\n",
    "    \n",
    "def my_clear_text(text):\n",
    "    text = HTML_TAGS.sub(r'', text)\n",
    "    text = GARBAGE_PATTERN.sub(r'', text)\n",
    "    return ' '.join(re.sub(r'[^a-zA-Z ]', ' ', text).split())\n",
    "\n",
    "def my_lemmatize_text(text):\n",
    "    _doc = NLP(text)\n",
    "    return ' '.join([token.lemma_ for token in _doc])\n",
    "\n",
    "def my_text_preprocessing(text):\n",
    "    return my_lemmatize_text(my_clear_text(text))\n",
    "\n",
    "def my_confusion_matrix(model=None, target=None, predictions=None):\n",
    "    _model_name = model.__class__.__name__\n",
    "    _cmap = 'Blues'\n",
    "\n",
    "    _fig, _ax = plt.subplots(figsize=(4, 3))\n",
    "\n",
    "    _fig.suptitle(f'Confusion matrix для {_model_name}')\n",
    "\n",
    "    sns.heatmap(\n",
    "        confusion_matrix(target, predictions, normalize='all'), \n",
    "        cmap=_cmap , \n",
    "        annot=True, \n",
    "        fmt='.2f', \n",
    "        ax=_ax, \n",
    "        vmin=None, \n",
    "        vmax=None\n",
    "    )\n",
    "\n",
    "    plt.tight_layout()\n",
    "    plt.xlabel('Predicted')\n",
    "    plt.ylabel('True')\n",
    "    plt.show()\n",
    "    \n",
    "def my_analyze_classification_performance(model=None, dummy=None, target=None, features=None):\n",
    "    _model_name = model.__class__.__name__\n",
    "    \n",
    "    _target_train_pred_prob = model.predict_proba(features)[:, 1]\n",
    "    if dummy!= None:\n",
    "        _target_train_pred_prob_dummy = dummy.predict_proba(features)[:, 1]\n",
    "\n",
    "    _fig, _ax = plt.subplots(nrows=1, ncols=2, figsize=(12, 5))\n",
    "    _fig.suptitle(f'Производительность модели классификации {_model_name}')\n",
    "\n",
    "    _fpr, _tpr, _thresholds = roc_curve(target, _target_train_pred_prob)\n",
    "    if dummy != None:\n",
    "        _fpr_dummy, _tpr_dummy, _thresholds_dummy = roc_curve(target, _target_train_pred_prob_dummy)\n",
    "\n",
    "    _auc_roc = roc_auc_score(target, _target_train_pred_prob)\n",
    "    if dummy != None:\n",
    "        _auc_roc_dummy = roc_auc_score(target, _target_train_pred_prob_dummy)\n",
    "\n",
    "    _ax[0].plot(_fpr, _tpr, color='SteelBlue', label='ROC Curve')\n",
    "    if dummy != None:\n",
    "        _ax[0].plot(_fpr_dummy, _tpr_dummy, '--', color='DarkRed', label=('Dummy ' + dummy.strategy))\n",
    "    else:\n",
    "        _ax[0].plot([0, 1], [0, 1], '--', color='DarkRed', label='Random Guess')\n",
    "    _ax[0].legend(loc='lower right')\n",
    "    if dummy != None:\n",
    "        _ax[0].set_title(f'ROC curve (AUC = {_auc_roc:.3f})\\nDummy {dummy.strategy} AUC = {_auc_roc_dummy:.3f}')\n",
    "    else:\n",
    "        _ax[0].set_title(f'ROC curve (AUC = {_auc_roc:.3f})')\n",
    "    _ax[0].set_xlabel('False Positive Rate')\n",
    "    _ax[0].set_ylabel('True Positive Rate')\n",
    "    _ax[0].grid(True)\n",
    "\n",
    "\n",
    "    _precision, _recall, _thresholds = precision_recall_curve(target, _target_train_pred_prob)\n",
    "    if dummy != None:\n",
    "        _precision_dummy, _recall_dummy, _thresholds_dummy = precision_recall_curve(target, _target_train_pred_prob_dummy)\n",
    "\n",
    "    _auc_pr = average_precision_score(target, _target_train_pred_prob)\n",
    "    if dummy != None:\n",
    "        _auc_pr_dummy = average_precision_score(target, _target_train_pred_prob_dummy)\n",
    "\n",
    "    _ax[1].plot(_recall, _precision, color='SteelBlue', label='Precision-Recall Curve')\n",
    "    if dummy != None:\n",
    "        _ax[1].plot(_recall_dummy, _precision_dummy, '--', color='DarkRed', label=('Dummy ' + dummy.strategy))\n",
    "    else:\n",
    "        _ax[1].plot([0, 1], [1, 0], '--', color='DarkRed', label='Random Guess')\n",
    "    _ax[1].legend(loc='lower left')\n",
    "    if dummy != None:\n",
    "        _ax[1].set_title(f'Precision-Recall curve (AUC = {_auc_pr:.3f})\\nDummy {dummy.strategy} AUC = {_auc_pr_dummy:.3f}')\n",
    "    else:\n",
    "        _ax[1].set_title(f'Precision-Recall curve (AUC = {_auc_pr:.3f})')\n",
    "    _ax[1].set_xlabel('Recall')\n",
    "    _ax[1].set_ylabel('Precision')\n",
    "    _ax[1].grid(True)\n",
    "\n",
    "    plt.tight_layout()\n",
    "    plt.show()"
   ]
  },
  {
   "cell_type": "markdown",
   "metadata": {},
   "source": [
    "## Подготовка."
   ]
  },
  {
   "cell_type": "markdown",
   "metadata": {},
   "source": [
    "### Загрузка, обзор и начальная обработка данных."
   ]
  },
  {
   "cell_type": "code",
   "execution_count": 5,
   "metadata": {},
   "outputs": [],
   "source": [
    "my_rnd_state_everywhere(seed=RANDOM_STATE)\n",
    "\n",
    "disabled_pipes = [ \"parser\",  \"ner\"]\n",
    "NLP = spacy.load('en_core_web_sm', disable=disabled_pipes)\n",
    "\n",
    "HTML_TAGS = re.compile(r'https?://\\S+|www\\.\\S+')\n",
    "GARBAGE_PATTERN = re.compile(\n",
    "    '['\n",
    "    u'\\U0001F600-\\U0001F64F' # эмодзи с улыбающимися лицами и выражениями\n",
    "    u'\\U0001F300-\\U0001F5FF' # символы, связанные с графикой и дизайном\n",
    "    u'\\U0001F680-\\U0001F6FF' # символы, связанные с транспортом и техникой\n",
    "    u'\\U0001F1E0-\\U0001F1FF' # символы флагов различных стран\n",
    "    u'\\U00002702-\\U000027B0' # символы, включая медицинские инструменты, предметы офисного использования\n",
    "    u'\\U000024C2-\\U0001F251' # всякий другой треш\n",
    "    ']+',\n",
    "    flags=re.UNICODE\n",
    ")"
   ]
  },
  {
   "cell_type": "code",
   "execution_count": 6,
   "metadata": {
    "scrolled": false
   },
   "outputs": [],
   "source": [
    "try: \n",
    "    toxic_comments = pd.read_csv('toxic_comments.csv')\n",
    "except:\n",
    "    toxic_comments = pd.read_csv('/datasets/toxic_comments.csv')"
   ]
  },
  {
   "cell_type": "code",
   "execution_count": 7,
   "metadata": {},
   "outputs": [
    {
     "name": "stdout",
     "output_type": "stream",
     "text": [
      "Несколько случайных строк данных\n",
      "         Unnamed: 0                                               text  toxic\n",
      "31015        31055  Sometime back, I just happened to log on to ww...      0\n",
      "102832      102929  \"\\n\\nThe latest edit is much better, don't mak...      0\n",
      "67317        67385  \" October 2007 (UTC)\\n\\nI would think you'd be...      0\n"
     ]
    }
   ],
   "source": [
    "print(f'Несколько случайных строк данных\\n {toxic_comments.sample(3)}')"
   ]
  },
  {
   "cell_type": "code",
   "execution_count": 8,
   "metadata": {},
   "outputs": [
    {
     "name": "stdout",
     "output_type": "stream",
     "text": [
      "Форма данных: (159292, 3)\n"
     ]
    }
   ],
   "source": [
    "print(f'Форма данных: {toxic_comments.shape}')"
   ]
  },
  {
   "cell_type": "code",
   "execution_count": 9,
   "metadata": {},
   "outputs": [
    {
     "name": "stdout",
     "output_type": "stream",
     "text": [
      "<class 'pandas.core.frame.DataFrame'>\n",
      "RangeIndex: 159292 entries, 0 to 159291\n",
      "Data columns (total 3 columns):\n",
      " #   Column      Non-Null Count   Dtype \n",
      "---  ------      --------------   ----- \n",
      " 0   Unnamed: 0  159292 non-null  int64 \n",
      " 1   text        159292 non-null  object\n",
      " 2   toxic       159292 non-null  int64 \n",
      "dtypes: int64(2), object(1)\n",
      "memory usage: 3.6+ MB\n"
     ]
    }
   ],
   "source": [
    "toxic_comments.info()"
   ]
  },
  {
   "cell_type": "code",
   "execution_count": 10,
   "metadata": {},
   "outputs": [],
   "source": [
    "toxic_comments.drop('Unnamed: 0', axis=1, inplace=True)"
   ]
  },
  {
   "cell_type": "markdown",
   "metadata": {},
   "source": [
    "### Очистка и лемматизация текста."
   ]
  },
  {
   "cell_type": "code",
   "execution_count": 11,
   "metadata": {},
   "outputs": [
    {
     "name": "stdout",
     "output_type": "stream",
     "text": [
      "Пример исходного текста до обработки\n",
      "Explanation\n",
      "Why the edits made under my username Hardcore Metallica Fan were reverted? They weren't vandalisms, just closure on some GAs after I voted at New York Dolls FAC. And please don't remove the template from the talk page since I'm retired now.89.205.38.27\n"
     ]
    }
   ],
   "source": [
    "print(f'Пример исходного текста до обработки\\n{toxic_comments.iloc[0, 0]}')"
   ]
  },
  {
   "cell_type": "code",
   "execution_count": 12,
   "metadata": {},
   "outputs": [
    {
     "name": "stdout",
     "output_type": "stream",
     "text": [
      "Текст после обработки\n",
      "explanation why the edit make under my username Hardcore Metallica Fan be revert they weren t vandalism just closure on some gas after I vote at New York Dolls FAC and please don t remove the template from the talk page since I m retire now\n"
     ]
    }
   ],
   "source": [
    "print(f'Текст после обработки\\n{my_text_preprocessing(toxic_comments.iloc[0, 0])}')"
   ]
  },
  {
   "cell_type": "code",
   "execution_count": 13,
   "metadata": {},
   "outputs": [
    {
     "name": "stdout",
     "output_type": "stream",
     "text": [
      "Результаты токеназации и лемматизации загружены из файла\n"
     ]
    }
   ],
   "source": [
    "if os.path.exists('toxic_comments_toclem.csv'):\n",
    "    toxic_comments = pd.read_csv('toxic_comments_toclem.csv')\n",
    "    print('Результаты токеназации и лемматизации загружены из файла')\n",
    "else:\n",
    "    tqdm.pandas() \n",
    "    toxic_comments['text'] = toxic_comments['text'].str.lower()\n",
    "    toxic_comments['toclem_text'] = toxic_comments['text'].progress_apply(my_text_preprocessing)\n",
    "    toxic_comments.to_csv('toxic_comments_toclem.csv', index=False)\n",
    "    print('Результаты токеназации и лемматизации сохранены в файле')"
   ]
  },
  {
   "cell_type": "code",
   "execution_count": 14,
   "metadata": {},
   "outputs": [
    {
     "name": "stdout",
     "output_type": "stream",
     "text": [
      "Задачи NLP: ['tok2vec', 'tagger', 'attribute_ruler', 'lemmatizer']\n"
     ]
    }
   ],
   "source": [
    "print(f'Задачи NLP: {NLP.pipe_names}')"
   ]
  },
  {
   "cell_type": "code",
   "execution_count": 15,
   "metadata": {
    "scrolled": false
   },
   "outputs": [
    {
     "name": "stdout",
     "output_type": "stream",
     "text": [
      "Внешний вид данных после обработки\n",
      "                                                     text  toxic  \\\n",
      "17217   murrumbidgee means 'track goes down here', 'a ...      0   \n",
      "65517   you just changed the article after discussion ...      0   \n",
      "125148  there! i got a little (very little) info on ba...      0   \n",
      "\n",
      "                                              toclem_text  \n",
      "17217   murrumbidgee mean track go down here a very go...  \n",
      "65517   you just change the article after discussion d...  \n",
      "125148  there I get a little very little info on basic...  \n"
     ]
    }
   ],
   "source": [
    "print(f'Внешний вид данных после обработки\\n{toxic_comments.sample(3)}')"
   ]
  },
  {
   "cell_type": "markdown",
   "metadata": {},
   "source": [
    "### Итоговая проверка на дубликаты и пропуски."
   ]
  },
  {
   "cell_type": "code",
   "execution_count": 16,
   "metadata": {},
   "outputs": [
    {
     "name": "stdout",
     "output_type": "stream",
     "text": [
      "Количество полных дубликатов в данных: 45\n"
     ]
    }
   ],
   "source": [
    "print(f'Количество полных дубликатов в данных: {toxic_comments.duplicated().sum()}')"
   ]
  },
  {
   "cell_type": "code",
   "execution_count": 17,
   "metadata": {},
   "outputs": [
    {
     "name": "stdout",
     "output_type": "stream",
     "text": [
      "Количество пропусков в данных:\n",
      "text            0\n",
      "toxic           0\n",
      "toclem_text    28\n",
      "dtype: int64\n"
     ]
    }
   ],
   "source": [
    "print(f'Количество пропусков в данных:\\n{toxic_comments.isna().sum()}')"
   ]
  },
  {
   "cell_type": "code",
   "execution_count": 18,
   "metadata": {},
   "outputs": [
    {
     "name": "stdout",
     "output_type": "stream",
     "text": [
      "Список утраченных данных после обработки\n",
      "                                                     text  toxic toclem_text\n",
      "4475    1993\\n\\n1994\\n\\n1995\\n\\n1996\\n\\n1997\\n\\n1998\\n...      0         NaN\n",
      "6182    http://www.imdb.com/name/nm2551199/filmoseries...      0         NaN\n",
      "6289                                 193.61.111.53  15:00      0         NaN\n",
      "10193                                      64.86.141.133\"      0         NaN\n",
      "17280                                ~ \\n\\n68.193.147.157      0         NaN\n",
      "19772                              (www.ebenefits.va.gov)      0         NaN\n",
      "38743                                       88.104.31.21\"      0         NaN\n",
      "41556   [   ]\\nhttp://www.smallholder.co.uk/news/87898...      0         NaN\n",
      "52336                                              14:53,      0         NaN\n",
      "53679                       92.24.199.233|92.24.199.233]]      0         NaN\n",
      "61644                            \"\\n\\n 199.209.144.211  \"      0         NaN\n",
      "62990   http://www.everytopicintheuniverseexceptchicke...      0         NaN\n",
      "64788   http://en.wikipedia.org/wiki/wikipedia_talk:no...      0         NaN\n",
      "68350   http://en.wikipedia.org/wiki/towns_in_the_form...      0         NaN\n",
      "75905   http://finance.yahoo.com/news/7-fascinating-nu...      0         NaN\n",
      "82541                              \"\\n '''''' 2010/2013 \"      0         NaN\n",
      "93873   http://wikipediawehaveaproblem.com/evidence-of...      0         NaN\n",
      "98154                 http://goproxing.biz 82.103.128.115      0         NaN\n",
      "106701       http://en.wikipedia.org/wiki/wikipedia:elyes      0         NaN\n",
      "109753  http://www.newswire.ca/fr/story/358197/domaine...      0         NaN\n",
      "119018                                                \"\"\"      1         NaN\n",
      "121055  ] // 06 // [http://www.webcitation.org/5emm355...      0         NaN\n",
      "123225  http://www.mediamonitors.net/edna47.html   htt...      0         NaN\n",
      "137400                                             == \"\"\"      0         NaN\n",
      "139887  ] // 10\\n[http://www.webcitation.org/5ogesq8ag 11      0         NaN\n",
      "141040  http://www.haaretz.com/news/diplomacy-defense/...      0         NaN\n",
      "147397  http://www.world-pyramids.com/atr/usa/monkmoun...      0         NaN\n",
      "153342  http://en.wikipedia.org/w/index.php?title=cras...      0         NaN\n"
     ]
    }
   ],
   "source": [
    "print(f'Список утраченных данных после обработки\\n{toxic_comments[toxic_comments[\"toclem_text\"].isna()]}')"
   ]
  },
  {
   "cell_type": "code",
   "execution_count": 19,
   "metadata": {},
   "outputs": [],
   "source": [
    "toxic_comments = toxic_comments.dropna()\n",
    "toxic_comments = toxic_comments.drop_duplicates()\n",
    "toxic_comments.reset_index(drop=True, inplace=True)"
   ]
  },
  {
   "cell_type": "markdown",
   "metadata": {},
   "source": [
    "### Проверка на дисбаланс класса."
   ]
  },
  {
   "cell_type": "code",
   "execution_count": 21,
   "metadata": {},
   "outputs": [
    {
     "data": {
      "image/png": "[encoded data removed]",
      "text/plain": [
       "<Figure size 360x288 with 1 Axes>"
      ]
     },
     "metadata": {
      "needs_background": "light"
     },
     "output_type": "display_data"
    }
   ],
   "source": [
    "plt.figure(figsize=(5, 4))\n",
    "toxic_comments['toxic'].value_counts(normalize=True).plot.bar()\n",
    "plt.ylabel('Плотность')\n",
    "plt.title('Плотность распределения целевого признака')\n",
    "plt.xticks([0, 1], ['Не токсичный', 'Токсичный'], rotation=0)\n",
    "plt.tight_layout()\n",
    "plt.show()"
   ]
  },
  {
   "cell_type": "code",
   "execution_count": 22,
   "metadata": {},
   "outputs": [
    {
     "name": "stdout",
     "output_type": "stream",
     "text": [
      "Баланс класса: 10.16%\n"
     ]
    }
   ],
   "source": [
    "print(f'Баланс класса: {toxic_comments[\"toxic\"].mean():.2%}')"
   ]
  },
  {
   "cell_type": "markdown",
   "metadata": {},
   "source": [
    "### Краткий вывод."
   ]
  },
  {
   "cell_type": "markdown",
   "metadata": {},
   "source": [
    "1. Загрузка, обзор и начальная обработка данных. Для обеспечения последовательности результатов было использовано одно и то же начальное число (seed) для всех библиотек. Это число было установлено в глобальной переменной RANDOM_STATE и равнялось $42$.\n",
    "\n",
    "2. Была загружена модель для обработки текстов на естественном языке (NLP) и настроены паттерны обработки текста, включая удаление HTML-тегов и ненужных символов.\n",
    "\n",
    "3. Проведена лемматизация текстов для их более эффективной обработки. Сначала был протестирован процесс лемматизации на одном примере текста. Основываясь на этом успешном тестировании, была применена лемматизация ко всем текстам в наборе данных.\n",
    "\n",
    "4. После очистки текстов и проведения лемматизации были проверены дубликаты и пропуски. Было обнаружено, что некоторые дубликаты и пропуски могли возникнуть в результате удаления мусорных символов и HTML-тегов. \n",
    "\n",
    "5. Таже был проверен дисбаланс классов в данных. Доля объектов $1$ в целевом классе составляет $10.16\\%$ от общего."
   ]
  },
  {
   "cell_type": "markdown",
   "metadata": {},
   "source": [
    "## Обучение"
   ]
  },
  {
   "cell_type": "markdown",
   "metadata": {},
   "source": [
    "### Подготовка выборок."
   ]
  },
  {
   "cell_type": "code",
   "execution_count": 23,
   "metadata": {},
   "outputs": [],
   "source": [
    "features = toxic_comments.drop(['toxic', 'text'], axis=1)\n",
    "labels = toxic_comments['toxic']"
   ]
  },
  {
   "cell_type": "code",
   "execution_count": 25,
   "metadata": {},
   "outputs": [],
   "source": [
    "train_features, test_features, train_labels, test_labels = train_test_split(\n",
    "    features,\n",
    "    labels,\n",
    "    test_size=0.1, \n",
    "    stratify=labels,\n",
    "    random_state=RANDOM_STATE\n",
    ")"
   ]
  },
  {
   "cell_type": "code",
   "execution_count": 26,
   "metadata": {},
   "outputs": [],
   "source": [
    "dataframes_to_reset = [train_features, test_features, train_labels, test_labels]\n",
    "\n",
    "for df in dataframes_to_reset:\n",
    "    df.reset_index(drop=True, inplace=True)"
   ]
  },
  {
   "cell_type": "code",
   "execution_count": 27,
   "metadata": {},
   "outputs": [
    {
     "name": "stdout",
     "output_type": "stream",
     "text": [
      "Баланс класса обучающей выборки: 10.16%\n"
     ]
    }
   ],
   "source": [
    "print(f'Баланс класса обучающей выборки: {train_labels.mean():.2%}')"
   ]
  },
  {
   "cell_type": "code",
   "execution_count": 28,
   "metadata": {},
   "outputs": [
    {
     "name": "stdout",
     "output_type": "stream",
     "text": [
      "Баланс класса тестовой выборки: 10.16%\n"
     ]
    }
   ],
   "source": [
    "print(f'Баланс класса тестовой выборки: {test_labels.mean():.2%}')"
   ]
  },
  {
   "cell_type": "code",
   "execution_count": 29,
   "metadata": {},
   "outputs": [
    {
     "name": "stderr",
     "output_type": "stream",
     "text": [
      "[nltk_data] Downloading package stopwords to /home/jovyan/nltk_data...\n",
      "[nltk_data]   Package stopwords is already up-to-date!\n"
     ]
    }
   ],
   "source": [
    "nltk.download('stopwords')\n",
    "stopwords = set(nltk_stopwords.words('english'))"
   ]
  },
  {
   "cell_type": "code",
   "execution_count": 30,
   "metadata": {},
   "outputs": [],
   "source": [
    "X_train = train_features['toclem_text']\n",
    "\n",
    "vectorizer = TfidfVectorizer(stop_words=list(stopwords))\n",
    "X_train_tfidf = vectorizer.fit_transform(X_train)\n",
    "X_test_tfidf = vectorizer.transform(test_features['toclem_text'])"
   ]
  },
  {
   "cell_type": "code",
   "execution_count": 31,
   "metadata": {},
   "outputs": [],
   "source": [
    "y_train = train_labels.values\n",
    "y_test = test_labels.values"
   ]
  },
  {
   "cell_type": "markdown",
   "metadata": {},
   "source": [
    "### GridSearchCV для LogisticRegression."
   ]
  },
  {
   "cell_type": "code",
   "execution_count": 32,
   "metadata": {
    "scrolled": false
   },
   "outputs": [
    {
     "name": "stdout",
     "output_type": "stream",
     "text": [
      "Результаты GridSearchCV для LogisticRegression сохранены в файле\n"
     ]
    }
   ],
   "source": [
    "if os.path.exists('gridsearch_lr_results.joblib'):\n",
    "    grid_search_lr = load('gridsearch_lr_results.joblib')\n",
    "    print('Результаты GridSearchCV для LogisticRegression загружены из файла')\n",
    "else:\n",
    "    lr_pipeline = Pipeline(\n",
    "        [\n",
    "            ('vect', TfidfVectorizer(stop_words=list(stopwords))),\n",
    "            ('lr', LogisticRegression(random_state=RANDOM_STATE)),\n",
    "        ]\n",
    "    )\n",
    "    \n",
    "    param_grid = {\n",
    "        'lr__C': [0.1, 1, 10, 100],\n",
    "        #'max_iter': [1000],\n",
    "        'lr__class_weight': ['balanced', None]\n",
    "    }\n",
    "\n",
    "    #model_lr = LogisticRegression(random_state=RANDOM_STATE)\n",
    "    grid_search_lr = GridSearchCV(\n",
    "        #model_lr,\n",
    "        lr_pipeline,\n",
    "        param_grid = param_grid,\n",
    "        scoring='f1',\n",
    "        n_jobs=-1,\n",
    "        verbose=0\n",
    "    )\n",
    "    #grid_search_lr.fit(X_train_tfidf, y_train)\n",
    "    grid_search_lr.fit(X_train, y_train)\n",
    "    \n",
    "    dump(grid_search_lr, 'gridsearch_lr_results.joblib')\n",
    "    print('Результаты GridSearchCV для LogisticRegression сохранены в файле')"
   ]
  },
  {
   "cell_type": "code",
   "execution_count": 33,
   "metadata": {},
   "outputs": [],
   "source": [
    "model_lr = grid_search_lr.best_estimator_.named_steps['lr']"
   ]
  },
  {
   "cell_type": "code",
   "execution_count": 34,
   "metadata": {},
   "outputs": [
    {
     "name": "stdout",
     "output_type": "stream",
     "text": [
      "Лучшие гиперпараметры:\n",
      "{'lr__C': 10, 'lr__class_weight': None}\n",
      "F1 обученной оптимизированной модели LogisticRegression на кроссвалидации: 0.779\n"
     ]
    }
   ],
   "source": [
    "print(f'Лучшие гиперпараметры:\\n{grid_search_lr.best_params_}')\n",
    "#f1 = f1_score(y_test, model_lr.predict(X_test_tfidf))\n",
    "print(f'F1 обученной оптимизированной модели LogisticRegression на кроссвалидации: {grid_search_lr.best_score_:.3f}')"
   ]
  },
  {
   "cell_type": "markdown",
   "metadata": {},
   "source": [
    "### GridSearchCV для Naive Bayes."
   ]
  },
  {
   "cell_type": "code",
   "execution_count": 35,
   "metadata": {},
   "outputs": [
    {
     "name": "stdout",
     "output_type": "stream",
     "text": [
      "Результаты GridSearchCV для MultinomialNB сохранены в файле\n"
     ]
    }
   ],
   "source": [
    "if os.path.exists('gridsearch_nb_results.joblib'):\n",
    "    grid_search_nb = load('gridsearch_nb_results.joblib')\n",
    "    print('Результаты GridSearchCV для MultinomialNB загружены из файла')\n",
    "else:\n",
    "    nb_pipeline = Pipeline(\n",
    "        [\n",
    "            ('vect', TfidfVectorizer(stop_words=list(stopwords))),\n",
    "            ('nb', MultinomialNB()),\n",
    "        ]\n",
    "    )\n",
    "\n",
    "    param_grid = {\n",
    "        'nb__alpha': [0.01, 0.1, 1.0]\n",
    "    }\n",
    "\n",
    "    #model_nb = MultinomialNB()\n",
    "    grid_search_nb = GridSearchCV(\n",
    "        #model_nb,\n",
    "        nb_pipeline,\n",
    "        param_grid = param_grid,\n",
    "        scoring='f1',\n",
    "        n_jobs=-1,\n",
    "        verbose=0\n",
    "    )\n",
    "    #grid_search_nb.fit(X_train_tfidf, y_train)\n",
    "    grid_search_nb.fit(X_train, y_train)\n",
    "    \n",
    "    dump(grid_search_nb, 'gridsearch_nb_results.joblib')\n",
    "    print('Результаты GridSearchCV для MultinomialNB сохранены в файле')"
   ]
  },
  {
   "cell_type": "code",
   "execution_count": 36,
   "metadata": {},
   "outputs": [],
   "source": [
    "model_nb = grid_search_nb.best_estimator_.named_steps['nb']"
   ]
  },
  {
   "cell_type": "code",
   "execution_count": 37,
   "metadata": {},
   "outputs": [
    {
     "name": "stdout",
     "output_type": "stream",
     "text": [
      "Лучшие гиперпараметры:\n",
      "{'nb__alpha': 0.01}\n",
      "F1 обученной оптимизированной модели MultinomialNB на кроссвалидации: 0.670\n"
     ]
    }
   ],
   "source": [
    "print(f'Лучшие гиперпараметры:\\n{grid_search_nb.best_params_}')\n",
    "#f1 = f1_score(y_test, model_nb.predict(X_test_tfidf))\n",
    "print(f'F1 обученной оптимизированной модели MultinomialNB на кроссвалидации: {grid_search_nb.best_score_:.3f}')"
   ]
  },
  {
   "cell_type": "markdown",
   "metadata": {},
   "source": [
    "### GridSearchCV для LinearSVC."
   ]
  },
  {
   "cell_type": "code",
   "execution_count": 38,
   "metadata": {},
   "outputs": [
    {
     "name": "stdout",
     "output_type": "stream",
     "text": [
      "Результаты GridSearchCV для LinearSVC сохранены в файле\n"
     ]
    }
   ],
   "source": [
    "if os.path.exists('gridsearch_lsvc_results.joblib'):\n",
    "    grid_search_lsvc = load('gridsearch_lsvc_results.joblib')\n",
    "    print('Результаты GridSearchCV для LinearSVC загружены из файла')\n",
    "else:\n",
    "    lsvc_pipeline = Pipeline(\n",
    "        [\n",
    "            ('vect', TfidfVectorizer(stop_words=list(stopwords))),\n",
    "            ('lsvc', LinearSVC(random_state=RANDOM_STATE)),\n",
    "        ]\n",
    "    )\n",
    "\n",
    "    param_grid = {\n",
    "        'lsvc__C': [0.01, 0.1, 1, 10],\n",
    "        #'max_iter': [1000],\n",
    "        'lsvc__class_weight': ['balanced', None]\n",
    "    }\n",
    "\n",
    "    #model_lsvc = LinearSVC(random_state=RANDOM_STATE)\n",
    "    grid_search_lsvc = GridSearchCV(\n",
    "        #model_lsvc,\n",
    "        lsvc_pipeline,\n",
    "        param_grid = param_grid,\n",
    "        scoring='f1',\n",
    "        n_jobs=-1,\n",
    "        verbose=0\n",
    "    )\n",
    "    #grid_search_lsvc.fit(X_train_tfidf, y_train)\n",
    "    grid_search_lsvc.fit(X_train, y_train)\n",
    "    \n",
    "    dump(grid_search_lsvc, 'gridsearch_lsvc_results.joblib')\n",
    "    print('Результаты GridSearchCV для LinearSVC сохранены в файле')"
   ]
  },
  {
   "cell_type": "code",
   "execution_count": 39,
   "metadata": {},
   "outputs": [],
   "source": [
    "model_lsvc = grid_search_lsvc.best_estimator_.named_steps['lsvc']"
   ]
  },
  {
   "cell_type": "code",
   "execution_count": 40,
   "metadata": {},
   "outputs": [
    {
     "name": "stdout",
     "output_type": "stream",
     "text": [
      "Лучшие гиперпараметры:\n",
      "{'lsvc__C': 1, 'lsvc__class_weight': None}\n",
      "F1 обученной оптимизированной модели LinearSVC на кроссвалидации: 0.782\n"
     ]
    }
   ],
   "source": [
    "print(f'Лучшие гиперпараметры:\\n{grid_search_lsvc.best_params_}')\n",
    "#f1 = f1_score(y_test, model_lsvc.predict(X_test_tfidf))\n",
    "print(f'F1 обученной оптимизированной модели LinearSVC на кроссвалидации: {grid_search_lsvc.best_score_:.3f}')"
   ]
  },
  {
   "cell_type": "markdown",
   "metadata": {},
   "source": [
    "### Выбор лучшей модели на кроссвалидации."
   ]
  },
  {
   "cell_type": "markdown",
   "metadata": {},
   "source": [
    "F1 обученной оптимизированной модели LogisticRegression на кроссвалидации: $0.779$<br>\n",
    "F1 обученной оптимизированной модели MultinomialNB на кроссвалидации: $0.670$<br>\n",
    "F1 обученной оптимизированной модели LinearSVC на кроссвалидации: $0.782$<br>\n",
    "\n",
    "На основании вышеприведённых результатов лучшей моделью объявляется LinearSVC с параметрами `{'lsvc__C': 1, 'lsvc__class_weight': None}`"
   ]
  },
  {
   "cell_type": "markdown",
   "metadata": {},
   "source": [
    "## Производительность лучшей модели."
   ]
  },
  {
   "cell_type": "code",
   "execution_count": 41,
   "metadata": {},
   "outputs": [
    {
     "name": "stdout",
     "output_type": "stream",
     "text": [
      "F1 обученной оптимизированной модели LinearSVC на тестовой выборке: 0.786\n"
     ]
    }
   ],
   "source": [
    "f1 = f1_score(y_test, model_lsvc.predict(X_test_tfidf))\n",
    "print(f'F1 обученной оптимизированной модели LinearSVC на тестовой выборке: {f1:.3f}')"
   ]
  },
  {
   "cell_type": "code",
   "execution_count": 42,
   "metadata": {
    "scrolled": true
   },
   "outputs": [
    {
     "data": {
      "image/png": "[encoded data removed]",
      "text/plain": [
       "<Figure size 288x216 with 2 Axes>"
      ]
     },
     "metadata": {
      "needs_background": "light"
     },
     "output_type": "display_data"
    }
   ],
   "source": [
    "model_lsvc_pred = model_lsvc.predict(X_test_tfidf)\n",
    "my_confusion_matrix(model=model_lsvc, target=y_test, predictions=model_lsvc_pred)"
   ]
  },
  {
   "cell_type": "code",
   "execution_count": 43,
   "metadata": {},
   "outputs": [
    {
     "data": {
      "text/plain": [
       "CalibratedClassifierCV(base_estimator=LinearSVC(C=1, random_state=42),\n",
       "                       cv='prefit')"
      ]
     },
     "execution_count": 43,
     "metadata": {},
     "output_type": "execute_result"
    }
   ],
   "source": [
    "calibrated_lsvc = CalibratedClassifierCV(model_lsvc, method='sigmoid', cv='prefit')\n",
    "calibrated_lsvc.fit(X_train_tfidf, y_train)"
   ]
  },
  {
   "cell_type": "code",
   "execution_count": 44,
   "metadata": {},
   "outputs": [
    {
     "data": {
      "image/png": "[encoded data removed]",
      "text/plain": [
       "<Figure size 864x360 with 2 Axes>"
      ]
     },
     "metadata": {
      "needs_background": "light"
     },
     "output_type": "display_data"
    }
   ],
   "source": [
    "my_analyze_classification_performance(model=calibrated_lsvc, dummy=None, target=y_test, features=X_test_tfidf)"
   ]
  },
  {
   "cell_type": "markdown",
   "metadata": {},
   "source": [
    "### Краткий вывод."
   ]
  },
  {
   "cell_type": "markdown",
   "metadata": {},
   "source": [
    "1. В этапе обучения был учтён дисбаланс в классах. В этой связи был использован метод train_test_split с опцией stratify, который помог учесть дисбаланс при разделении данных на обучающую и тестовую выборки. После этого тексты были TF-IDF векторизированы с использованием TfidfVectorizer. Также были убраны стоп-слова с помощью библиотеки nltk.\n",
    "\n",
    "2. Была обучена модель LogisticRegression и проведён поиск по сетке параметров с использованием GridSearchCV. Наилучший результат на кроссвалидации с пайплайном с TfidfVectorizer был достигнут при параметре 'C': $10$, и значение метрики F1 составило $0.778$.\n",
    "\n",
    "3. Модель Naive Bayes, также используя GridSearchCV, показала, что оптимальное значение параметра 'alpha' равно $0.01$. Но в данном случае, метрика F1 на кроссвалидации составила всего $0.669$.\n",
    "\n",
    "4. Для модели LinearSVC также был проведен GridSearchCV с параметром 'C'. Лучший результат достигнут при значении 'C': $1$, и метрика F1 на кроссвалидации составила $0.782$.\n",
    "\n",
    "5. Для проверки на тестовой выборке выбрана лучшая модель по итогам кроссвалидационной проверки на метрике F1 которой оказалась LinearSVC.\n",
    "\n",
    "6. Для оценки производительности модели LinearSVC, построены на метрики ROC-кривой (Receiver Operating Characteristic) и кривой точности-полноты (Precision-Recall Curve). \n",
    "\n",
    "   6.1 Значение метрики F1 на тестовой выборке для обученной и оптимизированной модели LinearSVC составило $0.786$.\n",
    "\n",
    "   6.1. По результатам анализа ROC-кривой для модели LinearSVC, получена площадь под кривой (ROC AUC) равная $0.967$. Высокое значение ROC AUC, близкое к $1.0$, указывает на высокую способность модели разделять классы.\n",
    "\n",
    "   6.2. Кривая точности-полноты (PRC) показывает, какая доля объектов, классифицированных как положительные, действительно является положительными (полнота), относительно точности (доля истинно положительных среди всех предсказанных положительных). Площадь под кривой (PRC AUC) равна $0.871$. Значение PRC AUC близкое к $1.0$ указывает на высокую точность и полноту модели."
   ]
  },
  {
   "cell_type": "markdown",
   "metadata": {},
   "source": [
    "## Выводы."
   ]
  },
  {
   "cell_type": "markdown",
   "metadata": {},
   "source": [
    "В рамках данного проекта был проведён анализ и обработка текстовых данных с целью разработки эффективной модели для их классификации по эмоциональной окраске. В начальной фазе, были проанализированы данные, обнаружен дисбаланс классов. Для обеспечения воспроизводимости результатов во всех используемых библиотеках было задано начальное начение псевдослучайных последовательностей.\n",
    "\n",
    "Была прозведена очистка данных от ненужных символов и HTML-тегов, далее проведена лемматизация текстов, которая необходима для их более эффективной обработки и анализа. После этого проверено наличие дубликатов и пропусков.\n",
    "\n",
    "Для обучения моделей, данные были разделены на обучающую и тестовую выборки с учётом дисбаланса классов с помощью метода StratifiedShuffleSplit. Затем, тексты были TF-IDF векторизированы с использованием TfidfVectorizer и удалены стоп-слова для более точной обработки.\n",
    "\n",
    "Были протестированы три различных модели классификации: LogisticRegression, Naive Bayes и LinearSVC. Подбор оптимальных параметров был осуществлен с помощью GridSearchCV. В результате, наилучшие результаты были достигнуты с использованием модели LinearSVC, где значение параметра 'C' равно $1$. Метрика F1 на тестовой выборке составила $0.786$, подтверждая хорошую производительность модели.\n",
    "\n",
    "Дополнительно, анализ метрик ROC (с площадью под кривой ROC AUC равной $0.967$) и PRC (с площадью под кривой PRC AUC равной $0.871$) также подтвердил высокую способность модели LinearSVC к правильной классификации и разделению классов."
   ]
  },
  {
   "attachments": {
    "image.png": {
     "image/png": "[encoded data removed]"
    }
   },
   "cell_type": "markdown",
   "metadata": {},
   "source": [
    "![image.png](attachment:image.png)"
   ]
  }
 ],
 "metadata": {
  "ExecuteTimeLog": [
   {
    "duration": 8219,
    "start_time": "2023-08-05T21:35:28.733Z"
   },
   {
    "duration": 5,
    "start_time": "2023-08-05T21:35:36.954Z"
   },
   {
    "duration": 26,
    "start_time": "2023-08-05T21:35:36.960Z"
   },
   {
    "duration": 26,
    "start_time": "2023-08-05T21:35:36.987Z"
   },
   {
    "duration": 816,
    "start_time": "2023-08-05T21:35:42.510Z"
   },
   {
    "duration": 377,
    "start_time": "2023-08-05T21:35:44.005Z"
   },
   {
    "duration": 15,
    "start_time": "2023-08-05T21:35:44.916Z"
   },
   {
    "duration": 78,
    "start_time": "2023-08-05T21:37:14.613Z"
   },
   {
    "duration": 2144,
    "start_time": "2023-08-05T21:37:20.884Z"
   },
   {
    "duration": 11,
    "start_time": "2023-08-05T21:37:27.157Z"
   },
   {
    "duration": 10,
    "start_time": "2023-08-05T21:37:27.911Z"
   },
   {
    "duration": 3,
    "start_time": "2023-08-05T21:37:28.686Z"
   },
   {
    "duration": 34,
    "start_time": "2023-08-05T21:37:29.086Z"
   },
   {
    "duration": 2028348,
    "start_time": "2023-08-05T21:37:29.463Z"
   },
   {
    "duration": 22,
    "start_time": "2023-08-05T22:11:17.813Z"
   },
   {
    "duration": 1504,
    "start_time": "2023-08-05T22:11:17.837Z"
   },
   {
    "duration": 361,
    "start_time": "2023-08-05T22:11:19.343Z"
   },
   {
    "duration": 25,
    "start_time": "2023-08-05T22:11:19.705Z"
   },
   {
    "duration": 434,
    "start_time": "2023-08-05T22:11:19.731Z"
   },
   {
    "duration": 218,
    "start_time": "2023-08-05T22:11:20.167Z"
   },
   {
    "duration": 3,
    "start_time": "2023-08-05T22:11:20.386Z"
   },
   {
    "duration": 6,
    "start_time": "2023-08-05T22:11:20.438Z"
   },
   {
    "duration": 63,
    "start_time": "2023-08-05T22:11:20.446Z"
   },
   {
    "duration": 3,
    "start_time": "2023-08-05T22:11:20.511Z"
   },
   {
    "duration": 8,
    "start_time": "2023-08-05T22:11:20.515Z"
   },
   {
    "duration": 4,
    "start_time": "2023-08-05T22:11:20.524Z"
   },
   {
    "duration": 206,
    "start_time": "2023-08-05T22:11:20.529Z"
   },
   {
    "duration": 5791,
    "start_time": "2023-08-05T22:11:20.737Z"
   },
   {
    "duration": 2,
    "start_time": "2023-08-05T22:11:26.530Z"
   },
   {
    "duration": 1582553,
    "start_time": "2023-08-05T22:11:26.537Z"
   },
   {
    "duration": 2,
    "start_time": "2023-08-05T22:37:49.091Z"
   },
   {
    "duration": 18,
    "start_time": "2023-08-05T22:37:49.095Z"
   },
   {
    "duration": 1083,
    "start_time": "2023-08-05T22:37:49.115Z"
   },
   {
    "duration": 3,
    "start_time": "2023-08-05T22:37:50.199Z"
   },
   {
    "duration": 30,
    "start_time": "2023-08-05T22:37:50.204Z"
   },
   {
    "duration": 16506,
    "start_time": "2023-08-05T22:37:50.236Z"
   },
   {
    "duration": 2,
    "start_time": "2023-08-05T22:38:06.744Z"
   },
   {
    "duration": 8,
    "start_time": "2023-08-05T22:38:06.748Z"
   },
   {
    "duration": 15,
    "start_time": "2023-08-05T22:38:06.757Z"
   },
   {
    "duration": 296,
    "start_time": "2023-08-05T22:38:06.773Z"
   },
   {
    "duration": 977,
    "start_time": "2023-08-05T22:38:07.071Z"
   },
   {
    "duration": 466,
    "start_time": "2023-08-05T22:38:08.139Z"
   },
   {
    "duration": 4349,
    "start_time": "2023-08-05T22:56:49.930Z"
   },
   {
    "duration": 6,
    "start_time": "2023-08-05T22:56:54.281Z"
   },
   {
    "duration": 21,
    "start_time": "2023-08-05T22:56:54.289Z"
   },
   {
    "duration": 15,
    "start_time": "2023-08-05T22:56:54.311Z"
   },
   {
    "duration": 474,
    "start_time": "2023-08-05T22:56:54.329Z"
   },
   {
    "duration": 383,
    "start_time": "2023-08-05T22:56:54.805Z"
   },
   {
    "duration": 0,
    "start_time": "2023-08-05T22:56:55.190Z"
   },
   {
    "duration": 0,
    "start_time": "2023-08-05T22:56:55.191Z"
   },
   {
    "duration": 0,
    "start_time": "2023-08-05T22:56:55.192Z"
   },
   {
    "duration": 0,
    "start_time": "2023-08-05T22:56:55.194Z"
   },
   {
    "duration": 0,
    "start_time": "2023-08-05T22:56:55.196Z"
   },
   {
    "duration": 0,
    "start_time": "2023-08-05T22:56:55.196Z"
   },
   {
    "duration": 0,
    "start_time": "2023-08-05T22:56:55.197Z"
   },
   {
    "duration": 0,
    "start_time": "2023-08-05T22:56:55.199Z"
   },
   {
    "duration": 0,
    "start_time": "2023-08-05T22:56:55.199Z"
   },
   {
    "duration": 0,
    "start_time": "2023-08-05T22:56:55.200Z"
   },
   {
    "duration": 0,
    "start_time": "2023-08-05T22:56:55.201Z"
   },
   {
    "duration": 0,
    "start_time": "2023-08-05T22:56:55.202Z"
   },
   {
    "duration": 0,
    "start_time": "2023-08-05T22:56:55.203Z"
   },
   {
    "duration": 0,
    "start_time": "2023-08-05T22:56:55.204Z"
   },
   {
    "duration": 0,
    "start_time": "2023-08-05T22:56:55.205Z"
   },
   {
    "duration": 0,
    "start_time": "2023-08-05T22:56:55.206Z"
   },
   {
    "duration": 0,
    "start_time": "2023-08-05T22:56:55.207Z"
   },
   {
    "duration": 0,
    "start_time": "2023-08-05T22:56:55.208Z"
   },
   {
    "duration": 0,
    "start_time": "2023-08-05T22:56:55.209Z"
   },
   {
    "duration": 0,
    "start_time": "2023-08-05T22:56:55.210Z"
   },
   {
    "duration": 0,
    "start_time": "2023-08-05T22:56:55.211Z"
   },
   {
    "duration": 0,
    "start_time": "2023-08-05T22:56:55.212Z"
   },
   {
    "duration": 0,
    "start_time": "2023-08-05T22:56:55.213Z"
   },
   {
    "duration": 0,
    "start_time": "2023-08-05T22:56:55.214Z"
   },
   {
    "duration": 0,
    "start_time": "2023-08-05T22:56:55.215Z"
   },
   {
    "duration": 0,
    "start_time": "2023-08-05T22:56:55.216Z"
   },
   {
    "duration": 0,
    "start_time": "2023-08-05T22:56:55.217Z"
   },
   {
    "duration": 0,
    "start_time": "2023-08-05T22:56:55.218Z"
   },
   {
    "duration": 0,
    "start_time": "2023-08-05T22:56:55.219Z"
   },
   {
    "duration": 0,
    "start_time": "2023-08-05T22:56:55.220Z"
   },
   {
    "duration": 0,
    "start_time": "2023-08-05T22:56:55.221Z"
   },
   {
    "duration": 0,
    "start_time": "2023-08-05T22:56:55.222Z"
   },
   {
    "duration": 0,
    "start_time": "2023-08-05T22:56:55.223Z"
   },
   {
    "duration": 4363,
    "start_time": "2023-08-05T22:58:20.928Z"
   },
   {
    "duration": 7,
    "start_time": "2023-08-05T22:58:25.293Z"
   },
   {
    "duration": 14,
    "start_time": "2023-08-05T22:58:25.302Z"
   },
   {
    "duration": 21,
    "start_time": "2023-08-05T22:58:25.318Z"
   },
   {
    "duration": 567,
    "start_time": "2023-08-05T22:58:25.342Z"
   },
   {
    "duration": 2656,
    "start_time": "2023-08-05T22:58:25.911Z"
   },
   {
    "duration": 13,
    "start_time": "2023-08-05T22:58:28.569Z"
   },
   {
    "duration": 36,
    "start_time": "2023-08-05T22:58:28.584Z"
   },
   {
    "duration": 14,
    "start_time": "2023-08-05T22:58:28.622Z"
   },
   {
    "duration": 29,
    "start_time": "2023-08-05T22:58:28.638Z"
   },
   {
    "duration": 2173555,
    "start_time": "2023-08-05T22:58:28.669Z"
   },
   {
    "duration": 33,
    "start_time": "2023-08-05T23:34:42.226Z"
   },
   {
    "duration": 2109,
    "start_time": "2023-08-05T23:34:42.261Z"
   },
   {
    "duration": 45,
    "start_time": "2023-08-05T23:34:44.373Z"
   },
   {
    "duration": 26,
    "start_time": "2023-08-05T23:34:44.420Z"
   },
   {
    "duration": 430,
    "start_time": "2023-08-05T23:34:44.447Z"
   },
   {
    "duration": 262,
    "start_time": "2023-08-05T23:34:44.878Z"
   },
   {
    "duration": 3,
    "start_time": "2023-08-05T23:34:45.142Z"
   },
   {
    "duration": 23,
    "start_time": "2023-08-05T23:34:45.147Z"
   },
   {
    "duration": 78,
    "start_time": "2023-08-05T23:34:45.172Z"
   },
   {
    "duration": 3,
    "start_time": "2023-08-05T23:34:45.252Z"
   },
   {
    "duration": 14,
    "start_time": "2023-08-05T23:34:45.256Z"
   },
   {
    "duration": 11,
    "start_time": "2023-08-05T23:34:45.272Z"
   },
   {
    "duration": 229,
    "start_time": "2023-08-05T23:34:45.285Z"
   },
   {
    "duration": 6416,
    "start_time": "2023-08-05T23:34:45.515Z"
   },
   {
    "duration": 2,
    "start_time": "2023-08-05T23:34:51.933Z"
   },
   {
    "duration": 1929482,
    "start_time": "2023-08-05T23:34:51.937Z"
   },
   {
    "duration": 2,
    "start_time": "2023-08-06T00:07:01.421Z"
   },
   {
    "duration": 62,
    "start_time": "2023-08-06T00:07:01.425Z"
   },
   {
    "duration": 1271,
    "start_time": "2023-08-06T00:07:01.489Z"
   },
   {
    "duration": 3,
    "start_time": "2023-08-06T00:07:02.762Z"
   },
   {
    "duration": 50,
    "start_time": "2023-08-06T00:07:02.766Z"
   },
   {
    "duration": 21573,
    "start_time": "2023-08-06T00:07:02.818Z"
   },
   {
    "duration": 3,
    "start_time": "2023-08-06T00:07:24.392Z"
   },
   {
    "duration": 20,
    "start_time": "2023-08-06T00:07:24.397Z"
   },
   {
    "duration": 15,
    "start_time": "2023-08-06T00:07:24.419Z"
   },
   {
    "duration": 392,
    "start_time": "2023-08-06T00:07:24.436Z"
   },
   {
    "duration": 1172,
    "start_time": "2023-08-06T00:07:24.830Z"
   },
   {
    "duration": 563,
    "start_time": "2023-08-06T00:07:26.004Z"
   },
   {
    "duration": 55,
    "start_time": "2023-08-06T00:11:40.024Z"
   },
   {
    "duration": 462,
    "start_time": "2023-08-06T00:36:58.067Z"
   },
   {
    "duration": 3855,
    "start_time": "2023-08-06T01:09:23.678Z"
   },
   {
    "duration": 6,
    "start_time": "2023-08-06T01:09:27.535Z"
   },
   {
    "duration": 7,
    "start_time": "2023-08-06T01:09:27.542Z"
   },
   {
    "duration": 14,
    "start_time": "2023-08-06T01:09:27.550Z"
   },
   {
    "duration": 464,
    "start_time": "2023-08-06T01:09:27.566Z"
   },
   {
    "duration": 890,
    "start_time": "2023-08-06T01:09:28.032Z"
   },
   {
    "duration": 11,
    "start_time": "2023-08-06T01:09:28.924Z"
   },
   {
    "duration": 28,
    "start_time": "2023-08-06T01:09:28.936Z"
   },
   {
    "duration": 30,
    "start_time": "2023-08-06T01:09:28.965Z"
   },
   {
    "duration": 3,
    "start_time": "2023-08-06T01:09:28.996Z"
   },
   {
    "duration": 23,
    "start_time": "2023-08-06T01:09:29.001Z"
   },
   {
    "duration": 2902,
    "start_time": "2023-08-06T01:09:29.025Z"
   },
   {
    "duration": 9,
    "start_time": "2023-08-06T01:09:31.928Z"
   },
   {
    "duration": 304,
    "start_time": "2023-08-06T01:09:31.940Z"
   },
   {
    "duration": 49,
    "start_time": "2023-08-06T01:09:32.246Z"
   },
   {
    "duration": 33,
    "start_time": "2023-08-06T01:09:32.296Z"
   },
   {
    "duration": 430,
    "start_time": "2023-08-06T01:09:32.331Z"
   },
   {
    "duration": 275,
    "start_time": "2023-08-06T01:09:32.762Z"
   },
   {
    "duration": 263,
    "start_time": "2023-08-06T01:09:33.039Z"
   },
   {
    "duration": 3,
    "start_time": "2023-08-06T01:09:33.305Z"
   },
   {
    "duration": 33,
    "start_time": "2023-08-06T01:09:33.309Z"
   },
   {
    "duration": 81,
    "start_time": "2023-08-06T01:09:33.344Z"
   },
   {
    "duration": 2,
    "start_time": "2023-08-06T01:09:33.427Z"
   },
   {
    "duration": 28,
    "start_time": "2023-08-06T01:09:33.431Z"
   },
   {
    "duration": 17,
    "start_time": "2023-08-06T01:09:33.461Z"
   },
   {
    "duration": 156,
    "start_time": "2023-08-06T01:09:33.479Z"
   },
   {
    "duration": 6453,
    "start_time": "2023-08-06T01:09:33.637Z"
   },
   {
    "duration": 3,
    "start_time": "2023-08-06T01:09:40.091Z"
   },
   {
    "duration": 148,
    "start_time": "2023-08-06T01:09:40.095Z"
   },
   {
    "duration": 2,
    "start_time": "2023-08-06T01:09:40.245Z"
   },
   {
    "duration": 375,
    "start_time": "2023-08-06T01:09:40.248Z"
   },
   {
    "duration": 0,
    "start_time": "2023-08-06T01:09:40.624Z"
   },
   {
    "duration": 0,
    "start_time": "2023-08-06T01:09:40.626Z"
   },
   {
    "duration": 0,
    "start_time": "2023-08-06T01:09:40.627Z"
   },
   {
    "duration": 0,
    "start_time": "2023-08-06T01:09:40.628Z"
   },
   {
    "duration": 0,
    "start_time": "2023-08-06T01:09:40.629Z"
   },
   {
    "duration": 0,
    "start_time": "2023-08-06T01:09:40.630Z"
   },
   {
    "duration": 0,
    "start_time": "2023-08-06T01:09:40.631Z"
   },
   {
    "duration": 0,
    "start_time": "2023-08-06T01:09:40.632Z"
   },
   {
    "duration": 0,
    "start_time": "2023-08-06T01:09:40.632Z"
   },
   {
    "duration": 0,
    "start_time": "2023-08-06T01:09:40.633Z"
   },
   {
    "duration": 4218,
    "start_time": "2023-08-06T01:11:18.246Z"
   },
   {
    "duration": 5,
    "start_time": "2023-08-06T01:11:22.466Z"
   },
   {
    "duration": 6,
    "start_time": "2023-08-06T01:11:22.472Z"
   },
   {
    "duration": 19,
    "start_time": "2023-08-06T01:11:22.480Z"
   },
   {
    "duration": 504,
    "start_time": "2023-08-06T01:11:22.501Z"
   },
   {
    "duration": 849,
    "start_time": "2023-08-06T01:11:23.007Z"
   },
   {
    "duration": 13,
    "start_time": "2023-08-06T01:11:23.857Z"
   },
   {
    "duration": 41,
    "start_time": "2023-08-06T01:11:23.871Z"
   },
   {
    "duration": 16,
    "start_time": "2023-08-06T01:11:23.913Z"
   },
   {
    "duration": 4,
    "start_time": "2023-08-06T01:11:23.930Z"
   },
   {
    "duration": 22,
    "start_time": "2023-08-06T01:11:23.935Z"
   },
   {
    "duration": 2417,
    "start_time": "2023-08-06T01:11:23.959Z"
   },
   {
    "duration": 9,
    "start_time": "2023-08-06T01:11:26.379Z"
   },
   {
    "duration": 338,
    "start_time": "2023-08-06T01:11:26.394Z"
   },
   {
    "duration": 60,
    "start_time": "2023-08-06T01:11:26.735Z"
   },
   {
    "duration": 26,
    "start_time": "2023-08-06T01:11:26.797Z"
   },
   {
    "duration": 448,
    "start_time": "2023-08-06T01:11:26.824Z"
   },
   {
    "duration": 280,
    "start_time": "2023-08-06T01:11:27.274Z"
   },
   {
    "duration": 261,
    "start_time": "2023-08-06T01:11:27.556Z"
   },
   {
    "duration": 4,
    "start_time": "2023-08-06T01:11:27.818Z"
   },
   {
    "duration": 9,
    "start_time": "2023-08-06T01:11:27.824Z"
   },
   {
    "duration": 88,
    "start_time": "2023-08-06T01:11:27.835Z"
   },
   {
    "duration": 3,
    "start_time": "2023-08-06T01:11:27.925Z"
   },
   {
    "duration": 7,
    "start_time": "2023-08-06T01:11:27.929Z"
   },
   {
    "duration": 6,
    "start_time": "2023-08-06T01:11:27.937Z"
   },
   {
    "duration": 157,
    "start_time": "2023-08-06T01:11:27.944Z"
   },
   {
    "duration": 5968,
    "start_time": "2023-08-06T01:11:28.103Z"
   },
   {
    "duration": 3,
    "start_time": "2023-08-06T01:11:34.074Z"
   },
   {
    "duration": 40,
    "start_time": "2023-08-06T01:11:34.079Z"
   },
   {
    "duration": 2,
    "start_time": "2023-08-06T01:11:34.121Z"
   },
   {
    "duration": 366,
    "start_time": "2023-08-06T01:11:34.124Z"
   },
   {
    "duration": 0,
    "start_time": "2023-08-06T01:11:34.495Z"
   },
   {
    "duration": 0,
    "start_time": "2023-08-06T01:11:34.496Z"
   },
   {
    "duration": 0,
    "start_time": "2023-08-06T01:11:34.498Z"
   },
   {
    "duration": 0,
    "start_time": "2023-08-06T01:11:34.500Z"
   },
   {
    "duration": 0,
    "start_time": "2023-08-06T01:11:34.501Z"
   },
   {
    "duration": 0,
    "start_time": "2023-08-06T01:11:34.503Z"
   },
   {
    "duration": 0,
    "start_time": "2023-08-06T01:11:34.504Z"
   },
   {
    "duration": 0,
    "start_time": "2023-08-06T01:11:34.506Z"
   },
   {
    "duration": 0,
    "start_time": "2023-08-06T01:11:34.507Z"
   },
   {
    "duration": 0,
    "start_time": "2023-08-06T01:11:34.507Z"
   },
   {
    "duration": 4,
    "start_time": "2023-08-06T14:19:30.141Z"
   },
   {
    "duration": 4,
    "start_time": "2023-08-06T14:19:39.925Z"
   },
   {
    "duration": 4519,
    "start_time": "2023-08-06T14:21:31.538Z"
   },
   {
    "duration": 5,
    "start_time": "2023-08-06T14:21:36.059Z"
   },
   {
    "duration": 17,
    "start_time": "2023-08-06T14:21:36.066Z"
   },
   {
    "duration": 35,
    "start_time": "2023-08-06T14:21:36.086Z"
   },
   {
    "duration": 622,
    "start_time": "2023-08-06T14:21:36.124Z"
   },
   {
    "duration": 998,
    "start_time": "2023-08-06T14:21:36.749Z"
   },
   {
    "duration": 12,
    "start_time": "2023-08-06T14:21:37.748Z"
   },
   {
    "duration": 50,
    "start_time": "2023-08-06T14:21:37.762Z"
   },
   {
    "duration": 15,
    "start_time": "2023-08-06T14:21:37.814Z"
   },
   {
    "duration": 6,
    "start_time": "2023-08-06T14:21:37.830Z"
   },
   {
    "duration": 23,
    "start_time": "2023-08-06T14:21:37.838Z"
   },
   {
    "duration": 2945,
    "start_time": "2023-08-06T14:21:37.863Z"
   },
   {
    "duration": 9,
    "start_time": "2023-08-06T14:21:40.810Z"
   },
   {
    "duration": 324,
    "start_time": "2023-08-06T14:21:40.822Z"
   },
   {
    "duration": 54,
    "start_time": "2023-08-06T14:21:41.147Z"
   },
   {
    "duration": 31,
    "start_time": "2023-08-06T14:21:41.209Z"
   },
   {
    "duration": 479,
    "start_time": "2023-08-06T14:21:41.242Z"
   },
   {
    "duration": 328,
    "start_time": "2023-08-06T14:21:41.723Z"
   },
   {
    "duration": 285,
    "start_time": "2023-08-06T14:21:42.053Z"
   },
   {
    "duration": 3,
    "start_time": "2023-08-06T14:21:42.340Z"
   },
   {
    "duration": 20,
    "start_time": "2023-08-06T14:21:42.345Z"
   },
   {
    "duration": 96,
    "start_time": "2023-08-06T14:21:42.367Z"
   },
   {
    "duration": 3,
    "start_time": "2023-08-06T14:21:42.465Z"
   },
   {
    "duration": 8,
    "start_time": "2023-08-06T14:21:42.469Z"
   },
   {
    "duration": 5,
    "start_time": "2023-08-06T14:21:42.479Z"
   },
   {
    "duration": 219,
    "start_time": "2023-08-06T14:21:42.486Z"
   },
   {
    "duration": 8482,
    "start_time": "2023-08-06T14:21:42.707Z"
   },
   {
    "duration": 3,
    "start_time": "2023-08-06T14:21:51.190Z"
   },
   {
    "duration": 2046905,
    "start_time": "2023-08-06T14:21:51.202Z"
   },
   {
    "duration": 3,
    "start_time": "2023-08-06T14:55:58.110Z"
   },
   {
    "duration": 46,
    "start_time": "2023-08-06T14:55:58.115Z"
   },
   {
    "duration": 1347,
    "start_time": "2023-08-06T14:55:58.163Z"
   },
   {
    "duration": 2,
    "start_time": "2023-08-06T14:55:59.512Z"
   },
   {
    "duration": 47,
    "start_time": "2023-08-06T14:55:59.516Z"
   },
   {
    "duration": 27453,
    "start_time": "2023-08-06T14:55:59.565Z"
   },
   {
    "duration": 3,
    "start_time": "2023-08-06T14:56:27.020Z"
   },
   {
    "duration": 33,
    "start_time": "2023-08-06T14:56:27.024Z"
   },
   {
    "duration": 27,
    "start_time": "2023-08-06T14:56:27.059Z"
   },
   {
    "duration": 433,
    "start_time": "2023-08-06T14:56:27.088Z"
   },
   {
    "duration": 995,
    "start_time": "2023-08-06T14:56:27.523Z"
   },
   {
    "duration": 589,
    "start_time": "2023-08-06T14:56:28.523Z"
   },
   {
    "duration": 5387,
    "start_time": "2023-08-07T23:56:02.621Z"
   },
   {
    "duration": 6,
    "start_time": "2023-08-07T23:56:08.011Z"
   },
   {
    "duration": 16,
    "start_time": "2023-08-07T23:56:08.018Z"
   },
   {
    "duration": 65,
    "start_time": "2023-08-07T23:56:08.036Z"
   },
   {
    "duration": 586,
    "start_time": "2023-08-07T23:56:08.103Z"
   },
   {
    "duration": 2455,
    "start_time": "2023-08-07T23:56:08.691Z"
   },
   {
    "duration": 13,
    "start_time": "2023-08-07T23:56:11.147Z"
   },
   {
    "duration": 8,
    "start_time": "2023-08-07T23:56:11.162Z"
   },
   {
    "duration": 41,
    "start_time": "2023-08-07T23:56:11.171Z"
   },
   {
    "duration": 15,
    "start_time": "2023-08-07T23:56:11.214Z"
   },
   {
    "duration": 4,
    "start_time": "2023-08-07T23:56:11.230Z"
   },
   {
    "duration": 16,
    "start_time": "2023-08-07T23:56:11.236Z"
   },
   {
    "duration": 1015067,
    "start_time": "2023-08-07T23:56:11.254Z"
   },
   {
    "duration": 3,
    "start_time": "2023-08-08T00:13:06.326Z"
   },
   {
    "duration": 1596,
    "start_time": "2023-08-08T00:13:06.331Z"
   },
   {
    "duration": 590,
    "start_time": "2023-08-08T00:13:07.929Z"
   },
   {
    "duration": 52,
    "start_time": "2023-08-08T00:13:08.521Z"
   },
   {
    "duration": 48,
    "start_time": "2023-08-08T00:13:08.575Z"
   },
   {
    "duration": 490,
    "start_time": "2023-08-08T00:13:08.625Z"
   },
   {
    "duration": 359,
    "start_time": "2023-08-08T00:13:09.116Z"
   },
   {
    "duration": 223,
    "start_time": "2023-08-08T00:13:09.477Z"
   },
   {
    "duration": 4,
    "start_time": "2023-08-08T00:13:09.702Z"
   },
   {
    "duration": 29,
    "start_time": "2023-08-08T00:13:09.707Z"
   },
   {
    "duration": 20,
    "start_time": "2023-08-08T00:13:09.738Z"
   },
   {
    "duration": 94,
    "start_time": "2023-08-08T00:13:09.760Z"
   },
   {
    "duration": 3,
    "start_time": "2023-08-08T00:13:09.856Z"
   },
   {
    "duration": 24,
    "start_time": "2023-08-08T00:13:09.861Z"
   },
   {
    "duration": 21,
    "start_time": "2023-08-08T00:13:09.887Z"
   },
   {
    "duration": 196,
    "start_time": "2023-08-08T00:13:09.910Z"
   },
   {
    "duration": 6554,
    "start_time": "2023-08-08T00:13:10.108Z"
   },
   {
    "duration": 4,
    "start_time": "2023-08-08T00:13:16.665Z"
   },
   {
    "duration": 1406880,
    "start_time": "2023-08-08T00:13:16.674Z"
   },
   {
    "duration": 0,
    "start_time": "2023-08-08T00:36:43.557Z"
   },
   {
    "duration": 0,
    "start_time": "2023-08-08T00:36:43.559Z"
   },
   {
    "duration": 0,
    "start_time": "2023-08-08T00:36:43.561Z"
   },
   {
    "duration": 0,
    "start_time": "2023-08-08T00:36:43.563Z"
   },
   {
    "duration": 0,
    "start_time": "2023-08-08T00:36:43.564Z"
   },
   {
    "duration": 0,
    "start_time": "2023-08-08T00:36:43.566Z"
   },
   {
    "duration": 0,
    "start_time": "2023-08-08T00:36:43.568Z"
   },
   {
    "duration": 0,
    "start_time": "2023-08-08T00:36:43.570Z"
   },
   {
    "duration": 0,
    "start_time": "2023-08-08T00:36:43.595Z"
   },
   {
    "duration": 0,
    "start_time": "2023-08-08T00:36:43.596Z"
   },
   {
    "duration": 0,
    "start_time": "2023-08-08T00:36:43.598Z"
   },
   {
    "duration": 0,
    "start_time": "2023-08-08T00:36:43.600Z"
   },
   {
    "duration": 4283,
    "start_time": "2023-08-08T00:38:03.439Z"
   },
   {
    "duration": 5,
    "start_time": "2023-08-08T00:38:07.724Z"
   },
   {
    "duration": 10,
    "start_time": "2023-08-08T00:38:07.731Z"
   },
   {
    "duration": 17,
    "start_time": "2023-08-08T00:38:07.743Z"
   },
   {
    "duration": 518,
    "start_time": "2023-08-08T00:38:07.762Z"
   },
   {
    "duration": 882,
    "start_time": "2023-08-08T00:38:08.282Z"
   },
   {
    "duration": 12,
    "start_time": "2023-08-08T00:38:09.165Z"
   },
   {
    "duration": 10,
    "start_time": "2023-08-08T00:38:09.179Z"
   },
   {
    "duration": 37,
    "start_time": "2023-08-08T00:38:09.195Z"
   },
   {
    "duration": 15,
    "start_time": "2023-08-08T00:38:09.233Z"
   },
   {
    "duration": 6,
    "start_time": "2023-08-08T00:38:09.249Z"
   },
   {
    "duration": 16,
    "start_time": "2023-08-08T00:38:09.257Z"
   },
   {
    "duration": 2414,
    "start_time": "2023-08-08T00:38:09.295Z"
   },
   {
    "duration": 3,
    "start_time": "2023-08-08T00:38:11.714Z"
   },
   {
    "duration": 17,
    "start_time": "2023-08-08T00:38:11.719Z"
   },
   {
    "duration": 311,
    "start_time": "2023-08-08T00:38:11.738Z"
   },
   {
    "duration": 52,
    "start_time": "2023-08-08T00:38:12.050Z"
   },
   {
    "duration": 28,
    "start_time": "2023-08-08T00:38:12.105Z"
   },
   {
    "duration": 465,
    "start_time": "2023-08-08T00:38:12.135Z"
   },
   {
    "duration": 297,
    "start_time": "2023-08-08T00:38:12.602Z"
   },
   {
    "duration": 205,
    "start_time": "2023-08-08T00:38:12.901Z"
   },
   {
    "duration": 4,
    "start_time": "2023-08-08T00:38:13.108Z"
   },
   {
    "duration": 11,
    "start_time": "2023-08-08T00:38:13.114Z"
   },
   {
    "duration": 6,
    "start_time": "2023-08-08T00:38:13.126Z"
   },
   {
    "duration": 78,
    "start_time": "2023-08-08T00:38:13.134Z"
   },
   {
    "duration": 4,
    "start_time": "2023-08-08T00:38:13.214Z"
   },
   {
    "duration": 7,
    "start_time": "2023-08-08T00:38:13.220Z"
   },
   {
    "duration": 8,
    "start_time": "2023-08-08T00:38:13.229Z"
   },
   {
    "duration": 158,
    "start_time": "2023-08-08T00:38:13.239Z"
   },
   {
    "duration": 6556,
    "start_time": "2023-08-08T00:38:13.399Z"
   },
   {
    "duration": 3,
    "start_time": "2023-08-08T00:38:19.956Z"
   },
   {
    "duration": 420,
    "start_time": "2023-08-08T00:38:19.961Z"
   },
   {
    "duration": 0,
    "start_time": "2023-08-08T00:38:20.383Z"
   },
   {
    "duration": 0,
    "start_time": "2023-08-08T00:38:20.384Z"
   },
   {
    "duration": 0,
    "start_time": "2023-08-08T00:38:20.386Z"
   },
   {
    "duration": 0,
    "start_time": "2023-08-08T00:38:20.387Z"
   },
   {
    "duration": 0,
    "start_time": "2023-08-08T00:38:20.388Z"
   },
   {
    "duration": 0,
    "start_time": "2023-08-08T00:38:20.389Z"
   },
   {
    "duration": 0,
    "start_time": "2023-08-08T00:38:20.394Z"
   },
   {
    "duration": 0,
    "start_time": "2023-08-08T00:38:20.396Z"
   },
   {
    "duration": 0,
    "start_time": "2023-08-08T00:38:20.397Z"
   },
   {
    "duration": 0,
    "start_time": "2023-08-08T00:38:20.398Z"
   },
   {
    "duration": 0,
    "start_time": "2023-08-08T00:38:20.399Z"
   },
   {
    "duration": 0,
    "start_time": "2023-08-08T00:38:20.400Z"
   },
   {
    "duration": 4248,
    "start_time": "2023-08-08T00:39:41.801Z"
   },
   {
    "duration": 5,
    "start_time": "2023-08-08T00:39:46.051Z"
   },
   {
    "duration": 7,
    "start_time": "2023-08-08T00:39:46.058Z"
   },
   {
    "duration": 14,
    "start_time": "2023-08-08T00:39:46.067Z"
   },
   {
    "duration": 506,
    "start_time": "2023-08-08T00:39:46.084Z"
   },
   {
    "duration": 942,
    "start_time": "2023-08-08T00:39:46.592Z"
   },
   {
    "duration": 16,
    "start_time": "2023-08-08T00:39:47.536Z"
   },
   {
    "duration": 9,
    "start_time": "2023-08-08T00:39:47.554Z"
   },
   {
    "duration": 50,
    "start_time": "2023-08-08T00:39:47.565Z"
   },
   {
    "duration": 16,
    "start_time": "2023-08-08T00:39:47.617Z"
   },
   {
    "duration": 10,
    "start_time": "2023-08-08T00:39:47.635Z"
   },
   {
    "duration": 29,
    "start_time": "2023-08-08T00:39:47.647Z"
   },
   {
    "duration": 2445,
    "start_time": "2023-08-08T00:39:47.678Z"
   },
   {
    "duration": 3,
    "start_time": "2023-08-08T00:39:50.128Z"
   },
   {
    "duration": 17,
    "start_time": "2023-08-08T00:39:50.133Z"
   },
   {
    "duration": 319,
    "start_time": "2023-08-08T00:39:50.152Z"
   },
   {
    "duration": 53,
    "start_time": "2023-08-08T00:39:50.472Z"
   },
   {
    "duration": 38,
    "start_time": "2023-08-08T00:39:50.526Z"
   },
   {
    "duration": 454,
    "start_time": "2023-08-08T00:39:50.566Z"
   },
   {
    "duration": 344,
    "start_time": "2023-08-08T00:39:51.021Z"
   },
   {
    "duration": 251,
    "start_time": "2023-08-08T00:39:51.367Z"
   },
   {
    "duration": 4,
    "start_time": "2023-08-08T00:39:51.620Z"
   },
   {
    "duration": 24,
    "start_time": "2023-08-08T00:39:51.626Z"
   },
   {
    "duration": 12,
    "start_time": "2023-08-08T00:39:51.651Z"
   },
   {
    "duration": 71,
    "start_time": "2023-08-08T00:39:51.665Z"
   },
   {
    "duration": 4,
    "start_time": "2023-08-08T00:39:51.737Z"
   },
   {
    "duration": 22,
    "start_time": "2023-08-08T00:39:51.742Z"
   },
   {
    "duration": 28,
    "start_time": "2023-08-08T00:39:51.766Z"
   },
   {
    "duration": 222,
    "start_time": "2023-08-08T00:39:51.795Z"
   },
   {
    "duration": 6660,
    "start_time": "2023-08-08T00:39:52.019Z"
   },
   {
    "duration": 4,
    "start_time": "2023-08-08T00:39:58.681Z"
   },
   {
    "duration": 1968965,
    "start_time": "2023-08-08T00:39:58.695Z"
   },
   {
    "duration": 3,
    "start_time": "2023-08-08T01:12:47.662Z"
   },
   {
    "duration": 15,
    "start_time": "2023-08-08T01:12:47.666Z"
   },
   {
    "duration": 95664,
    "start_time": "2023-08-08T01:12:47.683Z"
   },
   {
    "duration": 3,
    "start_time": "2023-08-08T01:14:23.350Z"
   },
   {
    "duration": 50,
    "start_time": "2023-08-08T01:14:23.355Z"
   },
   {
    "duration": 321049,
    "start_time": "2023-08-08T01:14:23.407Z"
   },
   {
    "duration": 3,
    "start_time": "2023-08-08T01:19:44.458Z"
   },
   {
    "duration": 16,
    "start_time": "2023-08-08T01:19:44.463Z"
   },
   {
    "duration": 11,
    "start_time": "2023-08-08T01:19:44.484Z"
   },
   {
    "duration": 431,
    "start_time": "2023-08-08T01:19:44.497Z"
   },
   {
    "duration": 1271,
    "start_time": "2023-08-08T01:19:44.931Z"
   },
   {
    "duration": 494,
    "start_time": "2023-08-08T01:19:46.204Z"
   },
   {
    "duration": 109,
    "start_time": "2023-08-08T15:56:06.958Z"
   }
  ],
  "kernelspec": {
   "display_name": "Python 3 (ipykernel)",
   "language": "python",
   "name": "python3"
  },
  "language_info": {
   "codemirror_mode": {
    "name": "ipython",
    "version": 3
   },
   "file_extension": ".py",
   "mimetype": "text/x-python",
   "name": "python",
   "nbconvert_exporter": "python",
   "pygments_lexer": "ipython3",
   "version": "3.10.12"
  },
  "toc": {
   "base_numbering": 1,
   "nav_menu": {},
   "number_sections": true,
   "sideBar": true,
   "skip_h1_title": true,
   "title_cell": "Содержание",
   "title_sidebar": "Contents",
   "toc_cell": true,
   "toc_position": {
    "height": "calc(100% - 180px)",
    "left": "10px",
    "top": "150px",
    "width": "217.969px"
   },
   "toc_section_display": true,
   "toc_window_display": true
  },
  "varInspector": {
   "cols": {
    "lenName": 16,
    "lenType": 16,
    "lenVar": 40
   },
   "kernels_config": {
    "python": {
     "delete_cmd_postfix": "",
     "delete_cmd_prefix": "del ",
     "library": "var_list.py",
     "varRefreshCmd": "print(var_dic_list())"
    },
    "r": {
     "delete_cmd_postfix": ") ",
     "delete_cmd_prefix": "rm(",
     "library": "var_list.r",
     "varRefreshCmd": "cat(var_dic_list()) "
    }
   },
   "types_to_exclude": [
    "module",
    "function",
    "builtin_function_or_method",
    "instance",
    "_Feature"
   ],
   "window_display": false
  }
 },
 "nbformat": 4,
 "nbformat_minor": 2
}
